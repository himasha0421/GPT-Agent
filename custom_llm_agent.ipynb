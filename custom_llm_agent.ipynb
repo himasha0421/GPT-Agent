{
 "cells": [
  {
   "cell_type": "code",
   "execution_count": null,
   "metadata": {},
   "outputs": [],
   "source": [
    "from pyannote.audio import Pipeline\n",
    "from dotenv import load_dotenv\n",
    "load_dotenv()\n",
    "import os"
   ]
  },
  {
   "attachments": {},
   "cell_type": "markdown",
   "metadata": {},
   "source": [
    "> agent consists of theree parts\n",
    "\n",
    "- Tools: The tools the agent has available to use.\n",
    "- LLMChain: The LLMChain that produces the text that is parsed in a certain way to determine which action to take.\n",
    "- The agent class itself: this parses the output of the LLMChain to determin which action to take."
   ]
  },
  {
   "cell_type": "code",
   "execution_count": null,
   "metadata": {},
   "outputs": [],
   "source": [
    "!pip install langchain==0.0.90"
   ]
  },
  {
   "cell_type": "code",
   "execution_count": null,
   "metadata": {},
   "outputs": [],
   "source": [
    "from langchain.agents import ZeroShotAgent, Tool, AgentExecutor\n",
    "from langchain import OpenAI, SerpAPIWrapper, LLMChain\n",
    "from langchain.utilities import GoogleSerperAPIWrapper\n",
    "from langchain.chains.conversation.memory import ConversationBufferMemory"
   ]
  },
  {
   "cell_type": "code",
   "execution_count": null,
   "metadata": {},
   "outputs": [],
   "source": [
    "!pip install google-search-results\n",
    "!pip install google-api-python-client"
   ]
  },
  {
   "cell_type": "code",
   "execution_count": null,
   "metadata": {},
   "outputs": [],
   "source": [
    "# add a custom function to query the balance\n",
    "import re\n",
    "\n",
    "def check_balance(word):\n",
    "    answer= word\n",
    "    msisdn = [ str(s) for s in re.findall(r'\\b\\d+\\b',  answer ) ]\n",
    "\n",
    "    if( msisdn == [] ):\n",
    "        return \"Please Input the mobile number to check the account balance ...\"\n",
    "    else:\n",
    "        return \"Number : {} Current Balance is : {}\".format( msisdn[0] , 10 )"
   ]
  },
  {
   "attachments": {},
   "cell_type": "markdown",
   "metadata": {},
   "source": [
    "> google search on the given query"
   ]
  },
  {
   "cell_type": "code",
   "execution_count": null,
   "metadata": {},
   "outputs": [],
   "source": [
    "import os\n",
    "\n",
    "# initialize the google search wrapper\n",
    "search = GoogleSerperAPIWrapper()\n",
    "\n",
    "# define the tool for the agent for querying google\n",
    "tools = [\n",
    "    Tool(\n",
    "        name = \"Search\",\n",
    "        func=search.run,\n",
    "        description=\"useful for when you need to answer questions about current events\"\n",
    "    ),\n",
    "    Tool(\n",
    "        name = \"Check Account Balance\" ,\n",
    "        func =  lambda number : check_balance( number ) ,\n",
    "        description = \"useful for when you need to get the account balance for the mobile number\",\n",
    "        return_direct=True\n",
    "        \n",
    "    )\n",
    "]"
   ]
  },
  {
   "cell_type": "code",
   "execution_count": null,
   "metadata": {},
   "outputs": [],
   "source": [
    "prefix = \"\"\"Answer the following questions as best you can, but speaking as a customer call center agent. You have access to the following tools:\"\"\"\n",
    "suffix = \"\"\"Begin! Remember to speak as a customer call center agent when giving your final answer. \n",
    "\n",
    "Question: {input}\n",
    "{agent_scratchpad}\"\"\" # we currently require an agent_scratchpad input variable to put notes on previous actions and observations"
   ]
  },
  {
   "cell_type": "code",
   "execution_count": null,
   "metadata": {},
   "outputs": [],
   "source": [
    "# define the zeroshot agent prompt template\n",
    "prompt =  ZeroShotAgent.create_prompt(\n",
    "    tools , # agent usable tools\n",
    "    prefix = prefix ,\n",
    "    suffix = suffix ,\n",
    "    input_variables =  [ \"input\" , \"agent_scratchpad\" ]\n",
    ")"
   ]
  },
  {
   "cell_type": "code",
   "execution_count": null,
   "metadata": {},
   "outputs": [],
   "source": [
    "print( prompt.template )"
   ]
  },
  {
   "cell_type": "code",
   "execution_count": null,
   "metadata": {},
   "outputs": [],
   "source": [
    "# define the llm chain using the openai model\n",
    "llm_chain =  LLMChain( llm =  OpenAI( temperature = 0 ) , prompt = prompt )\n",
    "\n",
    "tool_names =  [  i_tool.name  for i_tool in tools ]\n",
    "# initialize the zeroshot agent\n",
    "agent =  ZeroShotAgent( llm_chain  = llm_chain , allowed_tools =  tool_names )\n",
    "# define the agent executor object\n",
    "agent_runner =  AgentExecutor.from_agent_and_tools( agent = agent , \n",
    "                                                    tools = tools , \n",
    "                                                    verbose = True  \n",
    "                                                )"
   ]
  },
  {
   "cell_type": "code",
   "execution_count": null,
   "metadata": {},
   "outputs": [],
   "source": [
    "# we are building a langchain conversational agent\n",
    "from langchain import OpenAI\n",
    "from langchain.agents import initialize_agent , Tool\n",
    "from langchain.chains.conversation.memory import ConversationBufferMemory\n",
    "import streamlit   as st"
   ]
  },
  {
   "cell_type": "code",
   "execution_count": null,
   "metadata": {},
   "outputs": [],
   "source": [
    "output =  agent_runner.run( \"can you suggest me a example tutorial to learn sql ?\" )"
   ]
  },
  {
   "cell_type": "code",
   "execution_count": null,
   "metadata": {},
   "outputs": [],
   "source": [
    "output"
   ]
  },
  {
   "cell_type": "code",
   "execution_count": null,
   "metadata": {},
   "outputs": [],
   "source": [
    "output =  agent_runner.run( \"10 , can you help me to check my data balance ?\" )"
   ]
  },
  {
   "cell_type": "code",
   "execution_count": null,
   "metadata": {},
   "outputs": [],
   "source": [
    "output"
   ]
  },
  {
   "attachments": {},
   "cell_type": "markdown",
   "metadata": {},
   "source": [
    "## work with multiple inputs"
   ]
  },
  {
   "cell_type": "code",
   "execution_count": null,
   "metadata": {},
   "outputs": [],
   "source": [
    "prefix = \"\"\"Answer the following questions as best you can. You have access to the following tools:\"\"\"\n",
    "suffix = \"\"\"When answering, you MUST speak in the following language: {language}.\n",
    "\n",
    "Question: {input}\n",
    "{agent_scratchpad}\"\"\"\n",
    "\n",
    "prompt = ZeroShotAgent.create_prompt(\n",
    "    tools, \n",
    "    prefix=prefix, \n",
    "    suffix=suffix, \n",
    "    input_variables=[\"input\", \"language\", \"agent_scratchpad\"]\n",
    ")"
   ]
  },
  {
   "cell_type": "code",
   "execution_count": null,
   "metadata": {},
   "outputs": [],
   "source": [
    "# define the multi lingual llmchain\n",
    "multi_lingual_llm = LLMChain(llm=OpenAI(temperature=0), prompt=prompt)"
   ]
  },
  {
   "cell_type": "code",
   "execution_count": null,
   "metadata": {},
   "outputs": [],
   "source": [
    "# define the chat memeory buffer\n",
    "memory = ConversationBufferMemory( memory_key='chat_history' ) # --> try other memeory types as well\n",
    "\n",
    "#define the zeroshot agent\n",
    "multi_lingual_agent = ZeroShotAgent(llm_chain= multi_lingual_llm ,\n",
    "                                    tools=tools ,\n",
    "                                    agent= \"conversational-react-description\" ,\n",
    "                                    memory  = memory ,\n",
    "                                    )\n",
    "\n",
    "# define the agent executor\n",
    "multi_lingual_executor = AgentExecutor.from_agent_and_tools(agent= multi_lingual_agent  ,\n",
    "                                                    tools=tools ,\n",
    "                                                    verbose=True)"
   ]
  },
  {
   "cell_type": "code",
   "execution_count": null,
   "metadata": {},
   "outputs": [],
   "source": [
    "# run the agent on query\n",
    "output = multi_lingual_executor.run( input=\"can i check my balance , 0768464525\" , \n",
    "                                     language = \"Sinhala\" )"
   ]
  },
  {
   "cell_type": "code",
   "execution_count": null,
   "metadata": {},
   "outputs": [],
   "source": [
    "output"
   ]
  },
  {
   "attachments": {},
   "cell_type": "markdown",
   "metadata": {},
   "source": [
    "## define the streamlit application"
   ]
  },
  {
   "cell_type": "code",
   "execution_count": null,
   "metadata": {},
   "outputs": [],
   "source": [
    "# initialize the steamlit app\n",
    "st.header( \":blue[ ChatGPT Agent ] :sunglasses:\" ) # short term memory no embedd vector store\n",
    "user_input =  st.text_input(\"Customer : \")\n",
    "# initialize the memory buffer\n",
    "if \"memeory\" not in st.session_state :\n",
    "    st.session_state['memory'] = \"\"\n",
    "\n",
    "# add stremalit button\n",
    "if st.button(\"Submit\"):\n",
    "\n",
    "    # execute the langchain agent\n",
    "    st.markdown( multi_lingual_executor.run( input =  user_input  ,\n",
    "                                             language = \"Sinhala\"\n",
    "                                             ) )\n",
    "    # print the memeory buffer\n",
    "    # add the conversation history to memeory buffer\n",
    "    st.session_state['memory'] += memory.buffer\n",
    "    print( st.session_state['memory'] )"
   ]
  }
 ],
 "metadata": {
  "kernelspec": {
   "display_name": "fr_tenant",
   "language": "python",
   "name": "python3"
  },
  "language_info": {
   "codemirror_mode": {
    "name": "ipython",
    "version": 3
   },
   "file_extension": ".py",
   "mimetype": "text/x-python",
   "name": "python",
   "nbconvert_exporter": "python",
   "pygments_lexer": "ipython3",
   "version": "3.8.13"
  },
  "orig_nbformat": 4,
  "vscode": {
   "interpreter": {
    "hash": "db83642f18eb79f15dafa6211d6596dd13e18c3dcd3fc33f9a1b799c5217feeb"
   }
  }
 },
 "nbformat": 4,
 "nbformat_minor": 2
}
